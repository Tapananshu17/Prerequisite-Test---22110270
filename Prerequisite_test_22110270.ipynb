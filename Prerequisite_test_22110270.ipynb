{
  "nbformat": 4,
  "nbformat_minor": 0,
  "metadata": {
    "colab": {
      "provenance": []
    },
    "kernelspec": {
      "name": "python3",
      "display_name": "Python 3"
    },
    "language_info": {
      "name": "python"
    }
  },
  "cells": [
    {
      "cell_type": "markdown",
      "source": [
        "# Ans 1:\n",
        "We are given two matrics of size $(n,k)$ and $(k,m)$. The resulting matrix will be of the size $(n,m)$ and will have $nm$ elements.\n",
        "To find a single element of the resultant matrix we have to perform $k$ multiplication and $k-1$ additions. Therefore, for all the elements in the resultant matrix:\n",
        "           \n",
        "            -- No. of mutliplication operations = k * n * m\n",
        "            -- No. of addition operations = (k-1) * n * m"
      ],
      "metadata": {
        "id": "v_Nb0YavSvkQ"
      }
    },
    {
      "cell_type": "markdown",
      "source": [
        "# Ans 2:"
      ],
      "metadata": {
        "id": "otQ5mm9YLFM2"
      }
    },
    {
      "cell_type": "code",
      "source": [
        "#Ans 2:\n",
        "import numpy as np\n",
        "import timeit\n",
        "\n",
        "#without numpy using list of lists\n",
        "def matrixMultiplication(m1 , m2):\n",
        "    n = len(m1)\n",
        "    k = len(m1[0])\n",
        "    m = len(m2[0])\n",
        "\n",
        "    resultantMatrix = []\n",
        "\n",
        "    for x in range(n):\n",
        "        resultantMatrix.append([0]*m)\n",
        "\n",
        "    for i in range(n):\n",
        "        for j in range(m):\n",
        "            for l in range(k):\n",
        "                resultantMatrix[i][j] += m1[i][l] * m2[l][j]\n",
        "\n",
        "    return resultantMatrix\n",
        "\n",
        "start1 = timeit.default_timer()\n",
        "\n",
        "A = [[j+1 + 10*i for j in range(10)] for i in range(10)]\n",
        "\n",
        "B = [[100-j - 10*i for j in range(10)] for i in range(10)]\n",
        "\n",
        "result = matrixMultiplication(A, B)\n",
        "end1 = timeit.default_timer()\n",
        "print(result)\n",
        "print(f\"time taken without numpy= {end1 - start1}\")\n",
        "print()\n",
        "\n",
        "\n",
        "#with numpy\n",
        "start2 = timeit.default_timer()\n",
        "A = [[j+1 + 10*i for j in range(10)] for i in range(10)]\n",
        "\n",
        "B = [[100-j - 10*i for j in range(10)] for i in range(10)]\n",
        "\n",
        "result = np.dot(A, B)\n",
        "end2 = timeit.default_timer()\n",
        "print(result)\n",
        "print(f\"time taken using numpy = {end2 - start2}\")\n",
        "\n"
      ],
      "metadata": {
        "colab": {
          "base_uri": "https://localhost:8080/"
        },
        "id": "H3YGpzGsTNA4",
        "outputId": "e55515d0-6c98-448f-ba8a-ba5adabbd465"
      },
      "execution_count": null,
      "outputs": [
        {
          "output_type": "stream",
          "name": "stdout",
          "text": [
            "[[2200, 2145, 2090, 2035, 1980, 1925, 1870, 1815, 1760, 1705], [7700, 7545, 7390, 7235, 7080, 6925, 6770, 6615, 6460, 6305], [13200, 12945, 12690, 12435, 12180, 11925, 11670, 11415, 11160, 10905], [18700, 18345, 17990, 17635, 17280, 16925, 16570, 16215, 15860, 15505], [24200, 23745, 23290, 22835, 22380, 21925, 21470, 21015, 20560, 20105], [29700, 29145, 28590, 28035, 27480, 26925, 26370, 25815, 25260, 24705], [35200, 34545, 33890, 33235, 32580, 31925, 31270, 30615, 29960, 29305], [40700, 39945, 39190, 38435, 37680, 36925, 36170, 35415, 34660, 33905], [46200, 45345, 44490, 43635, 42780, 41925, 41070, 40215, 39360, 38505], [51700, 50745, 49790, 48835, 47880, 46925, 45970, 45015, 44060, 43105]]\n",
            "time taken without numpy= 0.0008244329999342881\n",
            "\n",
            "[[ 2200  2145  2090  2035  1980  1925  1870  1815  1760  1705]\n",
            " [ 7700  7545  7390  7235  7080  6925  6770  6615  6460  6305]\n",
            " [13200 12945 12690 12435 12180 11925 11670 11415 11160 10905]\n",
            " [18700 18345 17990 17635 17280 16925 16570 16215 15860 15505]\n",
            " [24200 23745 23290 22835 22380 21925 21470 21015 20560 20105]\n",
            " [29700 29145 28590 28035 27480 26925 26370 25815 25260 24705]\n",
            " [35200 34545 33890 33235 32580 31925 31270 30615 29960 29305]\n",
            " [40700 39945 39190 38435 37680 36925 36170 35415 34660 33905]\n",
            " [46200 45345 44490 43635 42780 41925 41070 40215 39360 38505]\n",
            " [51700 50745 49790 48835 47880 46925 45970 45015 44060 43105]]\n",
            "time taken using numpy = 0.0006216669999048463\n"
          ]
        }
      ]
    },
    {
      "cell_type": "markdown",
      "source": [
        "### Matrix Multiplication will be faster than using Numpy Library than implementing it using list of lists because:\n",
        "1. NumPy arrays are densely packed arrays of homogeneous type, whereas, Python lists, on the other hand, are arrays of pointers to objects, even when all of them are of the same type.\n",
        "2. NumPy is implemented in C and hence provides speedy operations which are usually much faster than standard Python.\n",
        "3. Many NumPy operations are parallelizable, and hence can take advantage of multi-core processors and other architectural features of modern CPUs.\n",
        "4. NumPy uses highly optimized algorithms for mathematical operations."
      ],
      "metadata": {
        "id": "TxN0JOK8Tggs"
      }
    },
    {
      "cell_type": "markdown",
      "source": [
        "# Ans 3:"
      ],
      "metadata": {
        "id": "7mjD1WS1LNRj"
      }
    },
    {
      "cell_type": "code",
      "source": [
        "import numpy as np\n",
        "import timeit\n",
        "\n",
        "def findMedian(arr):\n",
        "    n = len(arr)\n",
        "\n",
        "    for i in range(n):\n",
        "        for j in range(0, n-i-1):\n",
        "            if arr[j] > arr[j+1]:\n",
        "                arr[j], arr[j+1] = arr[j+1], arr[j]\n",
        "\n",
        "    if n%2 == 0:\n",
        "      return (arr[n//2] + arr[n//2 - 1])/2\n",
        "    else:\n",
        "      return arr[n//2]\n",
        "\n",
        "def partition(arr, low, high):\n",
        "    i = (low-1)\n",
        "    pivot = arr[high]\n",
        "\n",
        "    for j in range(low, high):\n",
        "        if arr[j] <= pivot:\n",
        "            i = i+1\n",
        "            arr[i], arr[j] = arr[j], arr[i]\n",
        "\n",
        "    arr[i+1], arr[high] = arr[high], arr[i+1]\n",
        "    return (i+1)\n",
        "\n",
        "def quick_sort(arr, low, high):\n",
        "    if low < high:\n",
        "        pi = partition(arr, low, high)\n",
        "        quick_sort(arr, low, pi-1)\n",
        "        quick_sort(arr, pi+1, high)\n",
        "\n",
        "array = np.random.rand(10000).tolist()\n",
        "\n",
        "start = timeit.default_timer()\n",
        "median = findMedian(array.copy())\n",
        "end = timeit.default_timer()\n",
        "print(median)\n",
        "print(f\"Time taken by findMedian: {end - start} seconds\\n\")\n",
        "\n",
        "start = timeit.default_timer()\n",
        "quick_sort(array, 0, len(array) - 1)\n",
        "n = len(array)\n",
        "if n % 2 == 0:\n",
        "    median = (array[n//2] + array[n//2 - 1]) / 2\n",
        "else:\n",
        "    median = array[n//2]\n",
        "end = timeit.default_timer()\n",
        "print(median)\n",
        "print(f\"Time taken by quick_sort: {end - start} seconds\\n\")\n",
        "\n",
        "start = timeit.default_timer()\n",
        "median = np.median(array)\n",
        "end = timeit.default_timer()\n",
        "print(median)\n",
        "print(f\"Time taken by numpy.median: {end - start} seconds\")\n"
      ],
      "metadata": {
        "id": "OnnQvjPuTt6g",
        "colab": {
          "base_uri": "https://localhost:8080/"
        },
        "outputId": "4d2a91f7-a7ab-4aa3-ed05-1d053cf73ddb"
      },
      "execution_count": 37,
      "outputs": [
        {
          "output_type": "stream",
          "name": "stdout",
          "text": [
            "0.5039715847129544\n",
            "Time taken by findMedian: 11.766359524999643 seconds\n",
            "\n",
            "0.5039715847129544\n",
            "Time taken by quick_sort: 0.028143436999926053 seconds\n",
            "\n",
            "0.5039715847129544\n",
            "Time taken by numpy.median: 0.002492865000021993 seconds\n"
          ]
        }
      ]
    },
    {
      "cell_type": "markdown",
      "source": [
        "### Numpy takes the least time followed by quicksort and then findMedian function."
      ],
      "metadata": {
        "id": "r1GWrdifWZyU"
      }
    },
    {
      "cell_type": "markdown",
      "source": [
        "## Explaination:\n",
        "In the first method, each element will do roughly $n$ comparisions. Therefore, to find the median total no. of comparisions would be approximately $n^2$. Hence, the time complexity of this method comes out to be - $O(n^2)$\n",
        "\n",
        "A better approach could be sorting the array first using an effiecient sorting algorithm with time complexity\n",
        "$O(nlogn)$ and then seraching for the middle index would take constant time. Hence, the whole process can be done in time complexity of $O(nlogn)$."
      ],
      "metadata": {
        "id": "EFN_KcVmTooI"
      }
    },
    {
      "cell_type": "markdown",
      "source": [
        "# Ans 4:\n",
        "Gradient of the function $f(x,y) = x^2y + y^3\\sin(x)$\n",
        "\n",
        "with respect to x: $2xy + y^3\\cos(x) $\n",
        "\n",
        "with respect to y: $x^2 + 3y^2\\sin(x)$"
      ],
      "metadata": {
        "id": "OprcUNItRo2I"
      }
    },
    {
      "cell_type": "markdown",
      "source": [
        "# Ans 5:"
      ],
      "metadata": {
        "id": "t3KuFXACQWtF"
      }
    },
    {
      "cell_type": "code",
      "execution_count": 31,
      "metadata": {
        "colab": {
          "base_uri": "https://localhost:8080/"
        },
        "id": "klEp9PO2ymf-",
        "outputId": "d5735983-0428-47b6-ddd4-54a692c9e608"
      },
      "outputs": [
        {
          "output_type": "stream",
          "name": "stdout",
          "text": [
            "directly using gradient of 'x' as a function: 0.7640352\n",
            "directly using gradient of 'y' as a function: 28.55103\n",
            "\n",
            "Using JAX Module ->\n",
            "Gradient with respect to x: 0.7640352\n",
            "Gradient with respect to y: 28.55103\n"
          ]
        }
      ],
      "source": [
        "# Ans 5:\n",
        "import jax\n",
        "import jax.numpy as jnp\n",
        "import math\n",
        "\n",
        "def f(x, y):\n",
        "    return (((x**2)*y + (y**3)*jnp.sin(x)))\n",
        "\n",
        "def grx(x,y):\n",
        "  return 2*x*y + (y**3)*jnp.cos(x)\n",
        "\n",
        "def gry(x,y):\n",
        "  return x**2 + 3*(y**2)*jnp.sin(x)\n",
        "\n",
        "print(\"directly using gradient of 'x' as a function:\", grx(2.0,3.0))\n",
        "print(\"directly using gradient of 'y' as a function:\", gry(2.0,3.0))\n",
        "\n",
        "grad_f_x = jax.grad(f, argnums=0)  # gradient with respect to x\n",
        "grad_f_y = jax.grad(f, argnums=1)  # gradient with respect to y\n",
        "print(\"\\nUsing JAX Module ->\")\n",
        "print(\"Gradient with respect to x:\", grad_f_x(2.0, 3.0))\n",
        "print(\"Gradient with respect to y:\", grad_f_y(2.0, 3.0))"
      ]
    },
    {
      "cell_type": "code",
      "source": [
        "print(\"directly using gradient of 'x' as a function:\", grx(4.0,5.0))\n",
        "print(\"directly using gradient of 'y' as a function:\", gry(4.0,5.0))\n",
        "\n",
        "grad_f_x = jax.grad(f, argnums=0)  # gradient with respect to x\n",
        "grad_f_y = jax.grad(f, argnums=1)  # gradient with respect to y\n",
        "print(\"\\nUsing JAX Module ->\")\n",
        "print(\"Gradient with respect to x:\", grad_f_x(4.0, 5.0))\n",
        "print(\"Gradient with respect to y:\", grad_f_y(4.0, 5.0))"
      ],
      "metadata": {
        "colab": {
          "base_uri": "https://localhost:8080/"
        },
        "id": "fctImTWhS0zv",
        "outputId": "d7f6afe3-9eca-415c-d8f3-d35e6c24f2a8"
      },
      "execution_count": 33,
      "outputs": [
        {
          "output_type": "stream",
          "name": "stdout",
          "text": [
            "directly using gradient of 'x' as a function: -41.705452\n",
            "directly using gradient of 'y' as a function: -40.76019\n",
            "\n",
            "Using JAX Module ->\n",
            "Gradient with respect to x: -41.705452\n",
            "Gradient with respect to y: -40.76019\n"
          ]
        }
      ]
    },
    {
      "cell_type": "markdown",
      "source": [
        "# Ans 6:"
      ],
      "metadata": {
        "id": "rIAd600JQdxc"
      }
    },
    {
      "cell_type": "code",
      "source": [
        "# Ans6:\n",
        "import sympy as sp\n",
        "from sympy import symbols\n",
        "\n",
        "x, y = symbols('x y')\n",
        "\n",
        "f = ((x**2)*y) + (y**3)*sp.sin(x)\n",
        "\n",
        "def gradient(f):\n",
        "    return (f.diff(x), f.diff(y))\n",
        "\n",
        "g = gradient(f)\n",
        "print(\"Using Sympy Module ->\")\n",
        "display(g[0])\n",
        "display(g[1])\n"
      ],
      "metadata": {
        "colab": {
          "base_uri": "https://localhost:8080/",
          "height": 78
        },
        "id": "8F4Dkq59RLHX",
        "outputId": "e1b3b90b-9bb2-46fb-d1e0-1c1268b28fb7"
      },
      "execution_count": null,
      "outputs": [
        {
          "output_type": "stream",
          "name": "stdout",
          "text": [
            "Using Sympy Module ->\n"
          ]
        },
        {
          "output_type": "display_data",
          "data": {
            "text/plain": [
              "2*x*y + y**3*cos(x)"
            ],
            "text/latex": "$\\displaystyle 2 x y + y^{3} \\cos{\\left(x \\right)}$"
          },
          "metadata": {}
        },
        {
          "output_type": "display_data",
          "data": {
            "text/plain": [
              "x**2 + 3*y**2*sin(x)"
            ],
            "text/latex": "$\\displaystyle x^{2} + 3 y^{2} \\sin{\\left(x \\right)}$"
          },
          "metadata": {}
        }
      ]
    },
    {
      "cell_type": "markdown",
      "source": [
        "# Ans 7:"
      ],
      "metadata": {
        "id": "3Wdw53s8NNSO"
      }
    },
    {
      "cell_type": "code",
      "source": [
        "#Ans 7\n",
        "student_records = {\n",
        "    2022: {\n",
        "        'Branch 1': {\n",
        "            1: {'Name': 'N', 'Marks': {'Maths': 100, 'English': 70}},\n",
        "            2: {'Name': 'O', 'Marks': {'Maths'}}\n",
        "        },\n",
        "        'Branch 2': {\n",
        "\n",
        "        },\n",
        "    },\n",
        "    2023: {\n",
        "        'Branch 1': {\n",
        "\n",
        "        },\n",
        "        'Branch 2': {\n",
        "\n",
        "        },\n",
        "    },\n",
        "    2024: {\n",
        "        'Branch 1': {\n",
        "\n",
        "        },\n",
        "        'Branch 2': {\n",
        "\n",
        "        },\n",
        "    },\n",
        "    2025: {\n",
        "        'Branch 1': {\n",
        "\n",
        "        },\n",
        "        'Branch 2': {\n",
        "\n",
        "        },\n",
        "    },\n",
        "}\n"
      ],
      "metadata": {
        "id": "LmlPaAA4ZOq8"
      },
      "execution_count": null,
      "outputs": []
    },
    {
      "cell_type": "markdown",
      "source": [
        "# Ans 8:"
      ],
      "metadata": {
        "id": "T96N2EQkNPht"
      }
    },
    {
      "cell_type": "code",
      "source": [
        "# Ans 8:\n",
        "\n",
        "class Student:\n",
        "    def __init__(self, roll_number, name, marks):\n",
        "        self.roll_number = roll_number\n",
        "        self.name = name\n",
        "        self.marks = marks\n",
        "\n",
        "class Branch:\n",
        "    def __init__(self, students):\n",
        "        self.students = students\n",
        "\n",
        "class Year:\n",
        "    def __init__(self, branches):\n",
        "        self.branches = branches\n",
        "\n",
        "student1 = Student(1, 'N', {'Maths': 100, 'English': 70})\n",
        "branch1_2022 = Branch([student1])\n",
        "year_2022 = Year({'Branch 1': branch1_2022})\n",
        "\n",
        "database = [year_2022]\n",
        "\n",
        "student2 = Student(2,\"P\",{'Maths': 99, 'English': 98})\n",
        "student3 = Student(5,\"Q\",{'Maths': 89, 'English': 78})\n",
        "branch2_2020 = Branch([student2, student3])\n",
        "year_2020 = Year({'Branch 2' : branch2_2020})\n",
        "\n"
      ],
      "metadata": {
        "id": "oCIhc5sGOh7A"
      },
      "execution_count": null,
      "outputs": []
    },
    {
      "cell_type": "markdown",
      "source": [
        "# Ans 9:"
      ],
      "metadata": {
        "id": "S9aAiOsdNSAm"
      }
    },
    {
      "cell_type": "code",
      "source": [
        "# Ans9 :\n",
        "import matplotlib.pyplot as plt\n",
        "import numpy as np\n",
        "\n",
        "def f1(x):\n",
        "    return x\n",
        "\n",
        "def f2(x):\n",
        "    return x*x\n",
        "\n",
        "def f3(x):\n",
        "    return x**3/100\n",
        "\n",
        "def f4(x):\n",
        "    return np.sin(x)\n",
        "\n",
        "def f5(x):\n",
        "    return np.sin(x) / x\n",
        "\n",
        "def f6(x):\n",
        "    return np.log(x)\n",
        "\n",
        "def f7(x):\n",
        "    return np.exp(x)\n",
        "\n",
        "# domain/range of x\n",
        "x = np.arange(0.5, 100.0, 0.5)\n",
        "\n",
        "functions = [f1(x), f2(x), f3(x), f4(x), f5(x), f6(x), f7(x)]\n",
        "titles = ['y = x', 'y = x^2', 'y = x^3/100', 'y = sin(x)', 'y = sin(x)/x', 'y = log(x)', 'y = exp(x)']\n",
        "\n",
        "plt.figure(figsize=(10,10))\n",
        "for i in range(0,7):\n",
        "    plt.subplot(4,2,i+1)\n",
        "    plt.plot(x, functions[i])\n",
        "    plt.title(titles[i])\n",
        "    plt.grid(True)\n",
        "\n",
        "plt.subplots_adjust(hspace=1, wspace=1)\n",
        "plt.show()\n"
      ],
      "metadata": {
        "colab": {
          "base_uri": "https://localhost:8080/",
          "height": 853
        },
        "id": "lBhOtOSJBSEm",
        "outputId": "fd54446f-ecf0-4fa2-e899-9559cf44d9d6"
      },
      "execution_count": null,
      "outputs": [
        {
          "output_type": "display_data",
          "data": {
            "text/plain": [
              "<Figure size 1000x1000 with 7 Axes>"
            ],
            "image/png": "[encoded data removed]"
          },
          "metadata": {}
        }
      ]
    },
    {
      "cell_type": "markdown",
      "source": [
        "# Ans 10:"
      ],
      "metadata": {
        "id": "SXN7RR76NZyb"
      }
    },
    {
      "cell_type": "code",
      "source": [
        "# Ans 11:\n",
        "\n",
        "import numpy as np\n",
        "import pandas as pd\n",
        "\n",
        "matrix = np.random.uniform(1, 2, (20, 5))\n",
        "df = pd.DataFrame(matrix, columns=['a', 'b', 'c', 'd', 'e'])\n",
        "print(df)\n",
        "\n",
        "highest_std = df.std().idxmax()\n",
        "lowest_mean = df.mean(axis=1).idxmin()\n",
        "\n",
        "print(f\"\\nColumn with the highest standard deviation: {highest_std}\")\n",
        "print(f\"Row with the lowest mean: {lowest_mean}\")\n"
      ],
      "metadata": {
        "colab": {
          "base_uri": "https://localhost:8080/"
        },
        "id": "xbSBIjbQEXC7",
        "outputId": "ec159212-13e5-4cc8-86c3-7817bfebc1c8"
      },
      "execution_count": null,
      "outputs": [
        {
          "output_type": "stream",
          "name": "stdout",
          "text": [
            "           a         b         c         d         e\n",
            "0   1.927792  1.922473  1.542167  1.116591  1.329842\n",
            "1   1.250559  1.410267  1.632438  1.375503  1.198399\n",
            "2   1.438808  1.212336  1.402946  1.789354  1.995987\n",
            "3   1.470529  1.164492  1.981599  1.227240  1.098361\n",
            "4   1.435428  1.354518  1.661506  1.580662  1.734480\n",
            "5   1.894386  1.629727  1.707938  1.845555  1.522941\n",
            "6   1.362961  1.225094  1.069639  1.314466  1.954804\n",
            "7   1.016048  1.538237  1.042051  1.787488  1.936922\n",
            "8   1.630603  1.479429  1.763215  1.282875  1.758851\n",
            "9   1.255651  1.385727  1.472854  1.054877  1.553822\n",
            "10  1.094653  1.104715  1.116155  1.216695  1.328833\n",
            "11  1.855911  1.607891  1.404283  1.123351  1.270626\n",
            "12  1.925008  1.906578  1.891397  1.557996  1.935907\n",
            "13  1.808071  1.675582  1.353713  1.595589  1.387354\n",
            "14  1.732077  1.722393  1.221507  1.259484  1.612962\n",
            "15  1.573732  1.715475  1.179755  1.844103  1.121719\n",
            "16  1.446126  1.713936  1.317974  1.327308  1.030447\n",
            "17  1.265554  1.487254  1.938839  1.334526  1.320419\n",
            "18  1.545321  1.603612  1.306609  1.882194  1.023712\n",
            "19  1.760464  1.185814  1.477538  1.211481  1.652711\n",
            "\n",
            "Column with the highest standard deviation: e\n",
            "Row with the lowest mean: 10\n"
          ]
        }
      ]
    },
    {
      "cell_type": "markdown",
      "source": [
        "# Ans 11:"
      ],
      "metadata": {
        "id": "Fek4FQQENduP"
      }
    },
    {
      "cell_type": "code",
      "source": [
        "import numpy as np\n",
        "import pandas as pd\n",
        "\n",
        "df['f'] = df.sum(axis=1)\n",
        "df['g'] = np.where(df['f'] < 8, 'LT8', 'GT8')\n",
        "\n",
        "rows_LT8 = (df['g'] == 'LT8').sum()\n",
        "std_fLT8 = df[df['g'] == 'LT8']['f'].std()\n",
        "std_fGT8 = df[df['g'] == 'GT8']['f'].std()\n",
        "\n",
        "print(df)\n",
        "print(f\"\\nNumber of rows where 'g' is 'LT8': {rows_LT8}\")\n",
        "print(f\"Standard deviation of 'f' where 'g' is 'LT8': {std_fLT8}\")\n",
        "print(f\"Standard deviation of 'f' where 'g' is 'GT8': {std_fGT8}\")\n"
      ],
      "metadata": {
        "colab": {
          "base_uri": "https://localhost:8080/"
        },
        "id": "5CdewWlKHqQq",
        "outputId": "0a279471-cce2-45b7-922c-79c31e725ae8"
      },
      "execution_count": null,
      "outputs": [
        {
          "output_type": "stream",
          "name": "stdout",
          "text": [
            "           a         b         c         d         e         f    g\n",
            "0   1.276617  1.130378  1.899300  1.891475  1.761113  7.958884  LT8\n",
            "1   1.250582  1.009288  1.451153  1.881770  1.601559  7.194352  LT8\n",
            "2   1.118628  1.739732  1.176423  1.144860  1.643406  6.823050  LT8\n",
            "3   1.692895  1.048686  1.872641  1.335300  1.425283  7.374805  LT8\n",
            "4   1.592159  1.538937  1.604219  1.746970  1.296372  7.778657  LT8\n",
            "5   1.526734  1.135862  1.961436  1.431182  1.168859  7.224073  LT8\n",
            "6   1.271618  1.780193  1.701600  1.785898  1.574975  8.114284  GT8\n",
            "7   1.001458  1.196051  1.939560  1.372868  1.943311  7.453248  LT8\n",
            "8   1.679925  1.798702  1.328089  1.658029  1.481297  7.946041  LT8\n",
            "9   1.971969  1.003365  1.970543  1.267367  1.482920  7.696163  LT8\n",
            "10  1.486101  1.937740  1.314767  1.853156  1.765024  8.356789  GT8\n",
            "11  1.536974  1.426927  1.147937  1.157052  1.017074  6.285964  LT8\n",
            "12  1.990178  1.156648  1.990925  1.693162  1.417250  8.248162  GT8\n",
            "13  1.924512  1.768436  1.977399  1.954219  1.940219  9.564785  GT8\n",
            "14  1.967531  1.275264  1.882396  1.455817  1.554490  8.135498  GT8\n",
            "15  1.820588  1.067608  1.038313  1.793686  1.779147  7.499343  LT8\n",
            "16  1.856955  1.303130  1.177086  1.961277  1.763684  8.062132  GT8\n",
            "17  1.551527  1.139995  1.683305  1.879434  1.314875  7.569136  LT8\n",
            "18  1.387421  1.482556  1.671524  1.053264  1.403312  6.998077  LT8\n",
            "19  1.077599  1.362042  1.112888  1.449246  1.963763  6.965538  LT8\n",
            "\n",
            "Number of rows where 'g' is 'LT8': 14\n",
            "Standard deviation of 'f' where 'g' is 'LT8': 0.46670017774514005\n",
            "Standard deviation of 'f' where 'g' is 'GT8': 0.5738092830315477\n"
          ]
        }
      ]
    },
    {
      "cell_type": "markdown",
      "source": [
        "# Ans 12:\n",
        "Broadcasting in Numpy refers to the treament of different size arrays in which it broadcasts the smaller array over the larger one. It does by manipulating the sizes of the array according to the needs, though there are some constraints to it. Two dimensions are compatible to broadcasting if:\n",
        "1. they are equal, or\n",
        "2. one of them is 1.\n",
        "\n",
        "### **Below is one example of \"broadcasting\"-**\n",
        "The array 'A' is a 1 dimensional array of size 2 and 'B' is a 2-D array with dimension 3*2. In this case, the Numpy stretches the array 'A' to match the size of the larger array and perform the calculation but as soon as the size of the array 'B' is changed to 5, an error occurs as it does not satisfy the condition to perform broadcasting."
      ],
      "metadata": {
        "id": "5tahsLge2Lj0"
      }
    },
    {
      "cell_type": "code",
      "source": [
        "import numpy as np\n",
        "A = np.array([1.0, 2.0])  # 1-D array\n",
        "B = np.array([[3.0, 4.0], # 2-D array\n",
        "              [5.0, 6.0],\n",
        "              [7.0, 8.0]])\n",
        "print(\"SUM OF BROADCASTABLE ARRAYS:\\n\", A + B)\n"
      ],
      "metadata": {
        "colab": {
          "base_uri": "https://localhost:8080/"
        },
        "id": "nV13o2X82LMK",
        "outputId": "4b69185a-a685-4280-f803-87acb233d7ca"
      },
      "execution_count": null,
      "outputs": [
        {
          "output_type": "stream",
          "name": "stdout",
          "text": [
            "SUM OF BROADCASTABLE ARRAYS:\n",
            " [[ 4.  6.]\n",
            " [ 6.  8.]\n",
            " [ 8. 10.]]\n"
          ]
        }
      ]
    },
    {
      "cell_type": "code",
      "source": [
        "print(\"\\nERROR WILL COME IF CHANGE THE ARRAYS THAT ARE NOT BROADCASTABLE\")\n",
        "B = np.array([1.,2.,3.,4.,5.])\n",
        "print(A + B)"
      ],
      "metadata": {
        "colab": {
          "base_uri": "https://localhost:8080/",
          "height": 245
        },
        "id": "9o9Cx-1nNobt",
        "outputId": "a6cd657c-fc3a-4dcc-ac60-a356296a5738"
      },
      "execution_count": null,
      "outputs": [
        {
          "output_type": "stream",
          "name": "stdout",
          "text": [
            "\n",
            "ERROR WILL COME IF CHANGE THE ARRAYS THAT ARE NOT BROADCASTABLE\n"
          ]
        },
        {
          "output_type": "error",
          "ename": "ValueError",
          "evalue": "operands could not be broadcast together with shapes (2,) (5,) ",
          "traceback": [
            "\u001b[0;31m---------------------------------------------------------------------------\u001b[0m",
            "\u001b[0;31mValueError\u001b[0m                                Traceback (most recent call last)",
            "\u001b[0;32m<ipython-input-24-da35b3030946>\u001b[0m in \u001b[0;36m<cell line: 3>\u001b[0;34m()\u001b[0m\n\u001b[1;32m      1\u001b[0m \u001b[0mprint\u001b[0m\u001b[0;34m(\u001b[0m\u001b[0;34m\"\\nERROR WILL COME IF CHANGE THE ARRAYS THAT ARE NOT BROADCASTABLE\"\u001b[0m\u001b[0;34m)\u001b[0m\u001b[0;34m\u001b[0m\u001b[0;34m\u001b[0m\u001b[0m\n\u001b[1;32m      2\u001b[0m \u001b[0mB\u001b[0m \u001b[0;34m=\u001b[0m \u001b[0mnp\u001b[0m\u001b[0;34m.\u001b[0m\u001b[0marray\u001b[0m\u001b[0;34m(\u001b[0m\u001b[0;34m[\u001b[0m\u001b[0;36m1.\u001b[0m\u001b[0;34m,\u001b[0m\u001b[0;36m2.\u001b[0m\u001b[0;34m,\u001b[0m\u001b[0;36m3.\u001b[0m\u001b[0;34m,\u001b[0m\u001b[0;36m4.\u001b[0m\u001b[0;34m,\u001b[0m\u001b[0;36m5.\u001b[0m\u001b[0;34m]\u001b[0m\u001b[0;34m)\u001b[0m\u001b[0;34m\u001b[0m\u001b[0;34m\u001b[0m\u001b[0m\n\u001b[0;32m----> 3\u001b[0;31m \u001b[0mprint\u001b[0m\u001b[0;34m(\u001b[0m\u001b[0mA\u001b[0m \u001b[0;34m+\u001b[0m \u001b[0mB\u001b[0m\u001b[0;34m)\u001b[0m\u001b[0;34m\u001b[0m\u001b[0;34m\u001b[0m\u001b[0m\n\u001b[0m",
            "\u001b[0;31mValueError\u001b[0m: operands could not be broadcast together with shapes (2,) (5,) "
          ]
        }
      ]
    },
    {
      "cell_type": "markdown",
      "source": [
        "# Ans 13:"
      ],
      "metadata": {
        "id": "Oc4LiwUENtLC"
      }
    },
    {
      "cell_type": "code",
      "source": [
        "# Ans 13:\n",
        "\n",
        "import numpy as np\n",
        "\n",
        "def arg_min(arr):\n",
        "  length = len(arr)\n",
        "  min = arr[0]\n",
        "  index = 0\n",
        "  for i in range(1,length):\n",
        "    if arr[i]<min:\n",
        "      min = arr[i]\n",
        "      index = i\n",
        "    else:\n",
        "      continue\n",
        "  return index\n",
        "\n",
        "A = np.array([13.,2.,11.,14.,15.])\n",
        "print(f\"The minimum number comes at the index: {arg_min(A)}\")\n",
        "print(f\"Using the argmin function of numpy: {np.argmin(A)}\")\n",
        "\n"
      ],
      "metadata": {
        "colab": {
          "base_uri": "https://localhost:8080/"
        },
        "id": "yx-MfHw_7WRe",
        "outputId": "710d053c-3448-4bd3-970a-2ba7fa46eb8f"
      },
      "execution_count": 34,
      "outputs": [
        {
          "output_type": "stream",
          "name": "stdout",
          "text": [
            "The minimum number comes at the index: 1\n",
            "Using the argmin function of numpy: 1\n"
          ]
        }
      ]
    }
  ]
}